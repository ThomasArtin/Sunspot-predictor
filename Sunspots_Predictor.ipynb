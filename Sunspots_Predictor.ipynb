{
  "nbformat": 4,
  "nbformat_minor": 0,
  "metadata": {
    "accelerator": "GPU",
    "colab": {
      "name": "Sunspots_Predictor.ipynb",
      "provenance": [],
      "collapsed_sections": [],
      "toc_visible": true
    },
    "kernelspec": {
      "display_name": "Python 3",
      "name": "python3"
    }
  },
  "cells": [
    {
      "cell_type": "code",
      "metadata": {
        "id": "zX4Kg8DUTKWO"
      },
      "source": [
        "#@title Licensed under the Apache License, Version 2.0 (the \"License\");\n",
        "# you may not use this file except in compliance with the License.\n",
        "# You may obtain a copy of the License at\n",
        "#\n",
        "# https://www.apache.org/licenses/LICENSE-2.0\n",
        "#\n",
        "# Unless required by applicable law or agreed to in writing, software\n",
        "# distributed under the License is distributed on an \"AS IS\" BASIS,\n",
        "# WITHOUT WARRANTIES OR CONDITIONS OF ANY KIND, either express or implied.\n",
        "# See the License for the specific language governing permissions and\n",
        "# limitations under the License."
      ],
      "execution_count": null,
      "outputs": []
    },
    {
      "cell_type": "code",
      "metadata": {
        "id": "56XEQOGknrAk",
        "outputId": "34c6d917-7eaa-4326-c185-c2665549a6e1",
        "colab": {
          "base_uri": "https://localhost:8080/",
          "height": 36
        }
      },
      "source": [
        "import tensorflow as tf\n",
        "from tensorflow.keras import layers as Layers \n",
        "import pandas as pd\n"
      ],
      "execution_count": null,
      "outputs": [
        {
          "output_type": "stream",
          "text": [
            "2.3.0\n"
          ],
          "name": "stdout"
        }
      ]
    },
    {
      "cell_type": "code",
      "metadata": {
        "id": "sLl52leVp5wU"
      },
      "source": [
        "import numpy as np\n",
        "import matplotlib.pyplot as plt\n",
        "def plot_series(time, series, format=\"-\", start=0, end=None):\n",
        "    plt.plot(time[start:end], series[start:end], format)\n",
        "    plt.xlabel(\"Time\")\n",
        "    plt.ylabel(\"Value\")\n",
        "    plt.grid(True)"
      ],
      "execution_count": null,
      "outputs": []
    },
    {
      "cell_type": "code",
      "metadata": {
        "id": "GSYxpZ5Gau46",
        "outputId": "0ab977f5-88a3-40fc-aba6-13e92e4f10f0",
        "colab": {
          "base_uri": "https://localhost:8080/",
          "height": 111
        }
      },
      "source": [
        "df = pd.read_csv('https://raw.githubusercontent.com/jbrownlee/Datasets/master/monthly-sunspots.csv')"
      ],
      "execution_count": null,
      "outputs": [
        {
          "output_type": "execute_result",
          "data": {
            "text/html": [
              "<div>\n",
              "<style scoped>\n",
              "    .dataframe tbody tr th:only-of-type {\n",
              "        vertical-align: middle;\n",
              "    }\n",
              "\n",
              "    .dataframe tbody tr th {\n",
              "        vertical-align: top;\n",
              "    }\n",
              "\n",
              "    .dataframe thead th {\n",
              "        text-align: right;\n",
              "    }\n",
              "</style>\n",
              "<table border=\"1\" class=\"dataframe\">\n",
              "  <thead>\n",
              "    <tr style=\"text-align: right;\">\n",
              "      <th></th>\n",
              "      <th>Month</th>\n",
              "      <th>Sunspots</th>\n",
              "    </tr>\n",
              "  </thead>\n",
              "  <tbody>\n",
              "    <tr>\n",
              "      <th>0</th>\n",
              "      <td>1749-01</td>\n",
              "      <td>58.0</td>\n",
              "    </tr>\n",
              "    <tr>\n",
              "      <th>1</th>\n",
              "      <td>1749-02</td>\n",
              "      <td>62.6</td>\n",
              "    </tr>\n",
              "  </tbody>\n",
              "</table>\n",
              "</div>"
            ],
            "text/plain": [
              "     Month  Sunspots\n",
              "0  1749-01      58.0\n",
              "1  1749-02      62.6"
            ]
          },
          "metadata": {
            "tags": []
          },
          "execution_count": 13
        }
      ]
    },
    {
      "cell_type": "code",
      "metadata": {
        "id": "sYfBEiQkb4tH",
        "outputId": "38a2654b-fbb2-42cb-c1c0-3dcd10766090",
        "colab": {
          "base_uri": "https://localhost:8080/",
          "height": 36
        }
      },
      "source": [
        "time_step = df['Month']\n",
        "temps = df['Sunspots'].to_numpy()\n",
        "\n",
        "print(time_step.size)"
      ],
      "execution_count": null,
      "outputs": [
        {
          "output_type": "stream",
          "text": [
            "2820\n"
          ],
          "name": "stdout"
        }
      ]
    },
    {
      "cell_type": "code",
      "metadata": {
        "id": "NcG9r1eClbTh",
        "outputId": "7ae73240-7ce0-4ad0-a41b-357677bbd121",
        "colab": {
          "base_uri": "https://localhost:8080/",
          "height": 388
        }
      },
      "source": [
        "\n",
        "series = np.array(temps)\n",
        "time = np.array(range(time_step.size))\n",
        "plt.figure(figsize=(10, 6))\n",
        "plot_series(time, series)"
      ],
      "execution_count": null,
      "outputs": [
        {
          "output_type": "display_data",
          "data": {
            "image/png": "[encoded data removed]",
            "text/plain": [
              "<Figure size 720x432 with 1 Axes>"
            ]
          },
          "metadata": {
            "tags": [],
            "needs_background": "light"
          }
        }
      ]
    },
    {
      "cell_type": "code",
      "metadata": {
        "id": "L92YRw_IpCFG"
      },
      "source": [
        "split_time = 2600\n",
        "time_train = time[:split_time]\n",
        "x_train = series[:split_time]\n",
        "time_valid = time[split_time:]\n",
        "x_valid = series[split_time:]\n",
        "\n",
        "window_size = 130\n",
        "batch_size = 32\n",
        "shuffle_buffer_size = 1000\n"
      ],
      "execution_count": null,
      "outputs": []
    },
    {
      "cell_type": "code",
      "metadata": {
        "id": "lJwUUZscnG38"
      },
      "source": [
        "def windowed_dataset(series, window_size, batch_size, shuffle_buffer):\n",
        "    ds = tf.data.Dataset.from_tensor_slices(series)\n",
        "    ds = ds.window(window_size+1,shift = 1,drop_remainder = True)\n",
        "    ds = ds.flat_map(lambda w: w.batch(window_size+1))\n",
        "    ds = ds.shuffle(shuffle_buffer)\n",
        "    ds = ds.map(lambda w: (w[:-1],w[-1:]))\n",
        "    return ds.batch(batch_size).prefetch(1)\n",
        "  "
      ],
      "execution_count": null,
      "outputs": []
    },
    {
      "cell_type": "code",
      "metadata": {
        "id": "4XwGrf-A_wF0"
      },
      "source": [
        "def model_forecast(model, series, window_size):\n",
        "    ds = tf.data.Dataset.from_tensor_slices(series)\n",
        "    ds = ds.window(window_size, shift=1, drop_remainder=True)\n",
        "    ds = ds.flat_map(lambda w: w.batch(window_size))\n",
        "    ds = ds.batch(32).prefetch(1)\n",
        "    forecast = model.predict(ds)\n",
        "    return forecast"
      ],
      "execution_count": null,
      "outputs": []
    },
    {
      "cell_type": "code",
      "metadata": {
        "id": "AclfYY3Mn6Ph",
        "outputId": "4740f35d-2dda-488c-eecf-1a6c55bdb738",
        "colab": {
          "base_uri": "https://localhost:8080/",
          "height": 1000
        }
      },
      "source": [
        "tf.keras.backend.clear_session()\n",
        "tf.random.set_seed(51)\n",
        "np.random.seed(51)\n",
        "window_size = 64\n",
        "batch_size = 256\n",
        "train_set = windowed_dataset(x_train, window_size, batch_size, shuffle_buffer_size)\n",
        "print(train_set)\n",
        "print(x_train.shape)\n",
        "\n",
        "model = tf.keras.models.Sequential([\n",
        "  Layers.Lambda(lambda x: tf.expand_dims(x,axis = -1)),\n",
        "  Layers.Conv1D(filters = 32, kernel_size= 10, strides = 1, padding = 'causal',activation = 'relu'),\n",
        "  Layers.LSTM(64,return_sequences=True),\n",
        "  Layers.LSTM(64,return_sequences=True),\n",
        "  Layers.Dense(30,activation='relu'),\n",
        "  Layers.Dense(30,activation='relu'),\n",
        "  Layers.Dense(1),\n",
        "  Layers.Lambda(lambda x: x*400.0)\n",
        "\n",
        "])\n",
        "\n",
        "lr_schedule = tf.keras.callbacks.LearningRateScheduler(\n",
        "    lambda epoch: 1e-8 * 10**(epoch / 20))\n",
        "optimizer = tf.keras.optimizers.SGD(lr=1e-8, momentum=0.9)\n",
        "model.compile(loss=tf.keras.losses.Huber(),\n",
        "              optimizer=optimizer,\n",
        "              metrics=[\"mae\"])\n",
        "history = model.fit(train_set, epochs=100, callbacks=[lr_schedule])\n"
      ],
      "execution_count": null,
      "outputs": [
        {
          "output_type": "stream",
          "text": [
            "<PrefetchDataset shapes: ((None, None), (None, None)), types: (tf.float64, tf.float64)>\n",
            "(2500,)\n",
            "Epoch 1/100\n",
            "WARNING:tensorflow:Layer lambda is casting an input tensor from dtype float64 to the layer's dtype of float32, which is new behavior in TensorFlow 2.  The layer has dtype float32 because its dtype defaults to floatx.\n",
            "\n",
            "If you intended to run this layer in float32, you can safely ignore this warning. If in doubt, this warning is likely only an issue if you are porting a TensorFlow 1.X model to TensorFlow 2.\n",
            "\n",
            "To change all layers to have dtype float64 by default, call `tf.keras.backend.set_floatx('float64')`. To change just this layer, pass dtype='float64' to the layer constructor. If you are the author of this layer, you can disable autocasting by passing autocast=False to the base Layer constructor.\n",
            "\n",
            "10/10 [==============================] - 0s 28ms/step - loss: 56.6286 - mae: 57.1262\n",
            "Epoch 2/100\n",
            "10/10 [==============================] - 0s 23ms/step - loss: 55.4047 - mae: 55.9023\n",
            "Epoch 3/100\n",
            "10/10 [==============================] - 0s 25ms/step - loss: 53.6879 - mae: 54.1855\n",
            "Epoch 4/100\n",
            "10/10 [==============================] - 0s 23ms/step - loss: 51.8160 - mae: 52.3134\n",
            "Epoch 5/100\n",
            "10/10 [==============================] - 0s 25ms/step - loss: 49.9313 - mae: 50.4286\n",
            "Epoch 6/100\n",
            "10/10 [==============================] - 0s 23ms/step - loss: 48.1119 - mae: 48.6092\n",
            "Epoch 7/100\n",
            "10/10 [==============================] - 0s 25ms/step - loss: 46.3783 - mae: 46.8757\n",
            "Epoch 8/100\n",
            "10/10 [==============================] - 0s 24ms/step - loss: 44.7527 - mae: 45.2500\n",
            "Epoch 9/100\n",
            "10/10 [==============================] - 0s 24ms/step - loss: 43.2758 - mae: 43.7732\n",
            "Epoch 10/100\n",
            "10/10 [==============================] - 0s 28ms/step - loss: 42.0200 - mae: 42.5173\n",
            "Epoch 11/100\n",
            "10/10 [==============================] - 0s 24ms/step - loss: 40.9103 - mae: 41.4074\n",
            "Epoch 12/100\n",
            "10/10 [==============================] - 0s 26ms/step - loss: 39.9487 - mae: 40.4460\n",
            "Epoch 13/100\n",
            "10/10 [==============================] - 0s 24ms/step - loss: 39.0627 - mae: 39.5598\n",
            "Epoch 14/100\n",
            "10/10 [==============================] - 0s 26ms/step - loss: 38.2584 - mae: 38.7555\n",
            "Epoch 15/100\n",
            "10/10 [==============================] - 0s 25ms/step - loss: 37.5157 - mae: 38.0127\n",
            "Epoch 16/100\n",
            "10/10 [==============================] - 0s 24ms/step - loss: 36.8333 - mae: 37.3304\n",
            "Epoch 17/100\n",
            "10/10 [==============================] - 0s 28ms/step - loss: 36.1973 - mae: 36.6944\n",
            "Epoch 18/100\n",
            "10/10 [==============================] - 0s 25ms/step - loss: 35.5836 - mae: 36.0806\n",
            "Epoch 19/100\n",
            "10/10 [==============================] - 0s 24ms/step - loss: 34.9940 - mae: 35.4910\n",
            "Epoch 20/100\n",
            "10/10 [==============================] - 0s 25ms/step - loss: 34.4139 - mae: 34.9109\n",
            "Epoch 21/100\n",
            "10/10 [==============================] - 0s 25ms/step - loss: 33.8464 - mae: 34.3433\n",
            "Epoch 22/100\n",
            "10/10 [==============================] - 0s 26ms/step - loss: 33.2877 - mae: 33.7846\n",
            "Epoch 23/100\n",
            "10/10 [==============================] - 0s 24ms/step - loss: 32.7403 - mae: 33.2371\n",
            "Epoch 24/100\n",
            "10/10 [==============================] - 0s 25ms/step - loss: 32.2152 - mae: 32.7118\n",
            "Epoch 25/100\n",
            "10/10 [==============================] - 0s 25ms/step - loss: 31.7157 - mae: 32.2121\n",
            "Epoch 26/100\n",
            "10/10 [==============================] - 0s 23ms/step - loss: 31.2500 - mae: 31.7463\n",
            "Epoch 27/100\n",
            "10/10 [==============================] - 0s 26ms/step - loss: 30.8082 - mae: 31.3046\n",
            "Epoch 28/100\n",
            "10/10 [==============================] - 0s 24ms/step - loss: 30.3935 - mae: 30.8899\n",
            "Epoch 29/100\n",
            "10/10 [==============================] - 0s 24ms/step - loss: 29.9936 - mae: 30.4898\n",
            "Epoch 30/100\n",
            "10/10 [==============================] - 0s 26ms/step - loss: 29.6215 - mae: 30.1176\n",
            "Epoch 31/100\n",
            "10/10 [==============================] - 0s 22ms/step - loss: 29.2740 - mae: 29.7702\n",
            "Epoch 32/100\n",
            "10/10 [==============================] - 0s 22ms/step - loss: 28.9516 - mae: 29.4477\n",
            "Epoch 33/100\n",
            "10/10 [==============================] - 0s 26ms/step - loss: 28.6537 - mae: 29.1497\n",
            "Epoch 34/100\n",
            "10/10 [==============================] - 0s 24ms/step - loss: 28.3702 - mae: 28.8661\n",
            "Epoch 35/100\n",
            "10/10 [==============================] - 0s 25ms/step - loss: 28.0948 - mae: 28.5908\n",
            "Epoch 36/100\n",
            "10/10 [==============================] - 0s 24ms/step - loss: 27.8197 - mae: 28.3156\n",
            "Epoch 37/100\n",
            "10/10 [==============================] - 0s 27ms/step - loss: 27.5625 - mae: 28.0583\n",
            "Epoch 38/100\n",
            "10/10 [==============================] - 0s 23ms/step - loss: 27.3045 - mae: 27.8004\n",
            "Epoch 39/100\n",
            "10/10 [==============================] - 0s 26ms/step - loss: 27.0516 - mae: 27.5474\n",
            "Epoch 40/100\n",
            "10/10 [==============================] - 0s 26ms/step - loss: 26.8136 - mae: 27.3092\n",
            "Epoch 41/100\n",
            "10/10 [==============================] - 0s 33ms/step - loss: 26.5852 - mae: 27.0810\n",
            "Epoch 42/100\n",
            "10/10 [==============================] - 0s 25ms/step - loss: 26.3583 - mae: 26.8540\n",
            "Epoch 43/100\n",
            "10/10 [==============================] - 0s 24ms/step - loss: 26.1483 - mae: 26.6440\n",
            "Epoch 44/100\n",
            "10/10 [==============================] - 0s 30ms/step - loss: 25.9444 - mae: 26.4399\n",
            "Epoch 45/100\n",
            "10/10 [==============================] - 0s 26ms/step - loss: 25.7811 - mae: 26.2764\n",
            "Epoch 46/100\n",
            "10/10 [==============================] - 0s 24ms/step - loss: 25.6005 - mae: 26.0959\n",
            "Epoch 47/100\n",
            "10/10 [==============================] - 0s 29ms/step - loss: 25.4455 - mae: 25.9407\n",
            "Epoch 48/100\n",
            "10/10 [==============================] - 0s 23ms/step - loss: 25.2828 - mae: 25.7779\n",
            "Epoch 49/100\n",
            "10/10 [==============================] - 0s 25ms/step - loss: 25.1383 - mae: 25.6334\n",
            "Epoch 50/100\n",
            "10/10 [==============================] - 0s 32ms/step - loss: 24.9938 - mae: 25.4889\n",
            "Epoch 51/100\n",
            "10/10 [==============================] - 0s 27ms/step - loss: 24.9018 - mae: 25.3970\n",
            "Epoch 52/100\n",
            "10/10 [==============================] - 0s 26ms/step - loss: 24.7216 - mae: 25.2166\n",
            "Epoch 53/100\n",
            "10/10 [==============================] - 0s 23ms/step - loss: 24.5500 - mae: 25.0448\n",
            "Epoch 54/100\n",
            "10/10 [==============================] - 0s 29ms/step - loss: 24.4415 - mae: 24.9362\n",
            "Epoch 55/100\n",
            "10/10 [==============================] - 0s 23ms/step - loss: 24.3437 - mae: 24.8386\n",
            "Epoch 56/100\n",
            "10/10 [==============================] - 0s 24ms/step - loss: 24.3918 - mae: 24.8866\n",
            "Epoch 57/100\n",
            "10/10 [==============================] - 0s 26ms/step - loss: 24.2240 - mae: 24.7188\n",
            "Epoch 58/100\n",
            "10/10 [==============================] - 0s 25ms/step - loss: 23.8151 - mae: 24.3096\n",
            "Epoch 59/100\n",
            "10/10 [==============================] - 0s 26ms/step - loss: 23.6213 - mae: 24.1161\n",
            "Epoch 60/100\n",
            "10/10 [==============================] - 0s 28ms/step - loss: 23.2423 - mae: 23.7367\n",
            "Epoch 61/100\n",
            "10/10 [==============================] - 0s 25ms/step - loss: 23.0721 - mae: 23.5665\n",
            "Epoch 62/100\n",
            "10/10 [==============================] - 0s 30ms/step - loss: 23.0456 - mae: 23.5399\n",
            "Epoch 63/100\n",
            "10/10 [==============================] - 0s 23ms/step - loss: 22.7532 - mae: 23.2474\n",
            "Epoch 64/100\n",
            "10/10 [==============================] - 0s 24ms/step - loss: 22.7376 - mae: 23.2318\n",
            "Epoch 65/100\n",
            "10/10 [==============================] - 0s 23ms/step - loss: 22.7580 - mae: 23.2523\n",
            "Epoch 66/100\n",
            "10/10 [==============================] - 0s 25ms/step - loss: 22.5830 - mae: 23.0773\n",
            "Epoch 67/100\n",
            "10/10 [==============================] - 0s 31ms/step - loss: 22.6266 - mae: 23.1211\n",
            "Epoch 68/100\n",
            "10/10 [==============================] - 0s 32ms/step - loss: 24.9706 - mae: 25.4656\n",
            "Epoch 69/100\n",
            "10/10 [==============================] - 0s 26ms/step - loss: 23.1027 - mae: 23.5968\n",
            "Epoch 70/100\n",
            "10/10 [==============================] - 0s 26ms/step - loss: 22.9109 - mae: 23.4054\n",
            "Epoch 71/100\n",
            "10/10 [==============================] - 0s 24ms/step - loss: 22.5128 - mae: 23.0072\n",
            "Epoch 72/100\n",
            "10/10 [==============================] - 0s 24ms/step - loss: 22.1667 - mae: 22.6610\n",
            "Epoch 73/100\n",
            "10/10 [==============================] - 0s 24ms/step - loss: 22.2807 - mae: 22.7751\n",
            "Epoch 74/100\n",
            "10/10 [==============================] - 0s 34ms/step - loss: 22.3188 - mae: 22.8128\n",
            "Epoch 75/100\n",
            "10/10 [==============================] - 0s 25ms/step - loss: 23.0260 - mae: 23.5205\n",
            "Epoch 76/100\n",
            "10/10 [==============================] - 0s 27ms/step - loss: 22.2966 - mae: 22.7909\n",
            "Epoch 77/100\n",
            "10/10 [==============================] - 0s 26ms/step - loss: 23.1040 - mae: 23.5983\n",
            "Epoch 78/100\n",
            "10/10 [==============================] - 0s 27ms/step - loss: 23.7089 - mae: 24.2037\n",
            "Epoch 79/100\n",
            "10/10 [==============================] - 0s 33ms/step - loss: 25.9737 - mae: 26.4692\n",
            "Epoch 80/100\n",
            "10/10 [==============================] - 0s 26ms/step - loss: 24.3407 - mae: 24.8356\n",
            "Epoch 81/100\n",
            "10/10 [==============================] - 0s 25ms/step - loss: 23.3180 - mae: 23.8129\n",
            "Epoch 82/100\n",
            "10/10 [==============================] - 0s 23ms/step - loss: 23.3729 - mae: 23.8676\n",
            "Epoch 83/100\n",
            "10/10 [==============================] - 0s 24ms/step - loss: 23.5395 - mae: 24.0341\n",
            "Epoch 84/100\n",
            "10/10 [==============================] - 0s 25ms/step - loss: 22.6665 - mae: 23.1613\n",
            "Epoch 85/100\n",
            "10/10 [==============================] - 0s 26ms/step - loss: 23.1882 - mae: 23.6824\n",
            "Epoch 86/100\n",
            "10/10 [==============================] - 0s 33ms/step - loss: 24.5818 - mae: 25.0770\n",
            "Epoch 87/100\n",
            "10/10 [==============================] - 0s 23ms/step - loss: 22.9471 - mae: 23.4417\n",
            "Epoch 88/100\n",
            "10/10 [==============================] - 0s 23ms/step - loss: 23.1540 - mae: 23.6486\n",
            "Epoch 89/100\n",
            "10/10 [==============================] - 0s 25ms/step - loss: 24.8979 - mae: 25.3929\n",
            "Epoch 90/100\n",
            "10/10 [==============================] - 0s 23ms/step - loss: 23.5841 - mae: 24.0791\n",
            "Epoch 91/100\n",
            "10/10 [==============================] - 0s 26ms/step - loss: 22.7302 - mae: 23.2248\n",
            "Epoch 92/100\n",
            "10/10 [==============================] - 0s 26ms/step - loss: 23.8275 - mae: 24.3227\n",
            "Epoch 93/100\n",
            "10/10 [==============================] - 0s 28ms/step - loss: 24.0298 - mae: 24.5249\n",
            "Epoch 94/100\n",
            "10/10 [==============================] - 0s 23ms/step - loss: 27.5305 - mae: 28.0263\n",
            "Epoch 95/100\n",
            "10/10 [==============================] - 0s 24ms/step - loss: 32.4315 - mae: 32.9281\n",
            "Epoch 96/100\n",
            "10/10 [==============================] - 0s 27ms/step - loss: 29.6962 - mae: 30.1915\n",
            "Epoch 97/100\n",
            "10/10 [==============================] - 0s 26ms/step - loss: 32.6287 - mae: 33.1258\n",
            "Epoch 98/100\n",
            "10/10 [==============================] - 0s 24ms/step - loss: 41.1729 - mae: 41.6703\n",
            "Epoch 99/100\n",
            "10/10 [==============================] - 0s 24ms/step - loss: 46.0158 - mae: 46.5139\n",
            "Epoch 100/100\n",
            "10/10 [==============================] - 0s 25ms/step - loss: 37.6790 - mae: 38.1754\n"
          ],
          "name": "stdout"
        }
      ]
    },
    {
      "cell_type": "code",
      "metadata": {
        "id": "vVcKmg7Q_7rD",
        "outputId": "e084f622-f4b9-45d5-9bbb-bf69d9a5c41b",
        "colab": {
          "base_uri": "https://localhost:8080/",
          "height": 292
        }
      },
      "source": [
        "plt.semilogx(history.history[\"lr\"], history.history[\"loss\"])\n",
        "plt.axis([1e-8, 1e-4, 0, 60])"
      ],
      "execution_count": null,
      "outputs": [
        {
          "output_type": "execute_result",
          "data": {
            "text/plain": [
              "(1e-08, 0.0001, 0.0, 60.0)"
            ]
          },
          "metadata": {
            "tags": []
          },
          "execution_count": 44
        },
        {
          "output_type": "display_data",
          "data": {
            "image/png": "[encoded data removed]",
            "text/plain": [
              "<Figure size 432x288 with 1 Axes>"
            ]
          },
          "metadata": {
            "tags": [],
            "needs_background": "light"
          }
        }
      ]
    },
    {
      "cell_type": "code",
      "metadata": {
        "id": "QsksvkcXAAgq",
        "outputId": "03fe7657-caf4-4122-d71c-7ea2ed7b4b2f",
        "colab": {
          "base_uri": "https://localhost:8080/",
          "height": 1000
        }
      },
      "source": [
        "tf.keras.backend.clear_session()\n",
        "tf.random.set_seed(51)\n",
        "np.random.seed(51)\n",
        "train_set = windowed_dataset(x_train, window_size=60, batch_size=256, shuffle_buffer=shuffle_buffer_size)\n",
        "model = tf.keras.models.Sequential([\n",
        "  Layers.Lambda(lambda x: tf.expand_dims(x,axis = -1)),\n",
        "  Layers.Conv1D(filters = 64, kernel_size= 5, strides = 1, padding = 'causal',activation = 'relu'),\n",
        "  Layers.LSTM(64,return_sequences=True),\n",
        "  Layers.LSTM(64,return_sequences=True),\n",
        "  Layers.Dense(30,activation='relu'),\n",
        "  Layers.Dense(30,activation='relu'),\n",
        "  Layers.Dense(1),\n",
        "  Layers.Lambda(lambda x: x*400.0)\n",
        "\n",
        "])\n",
        "\n",
        "optimizer = tf.keras.optimizers.SGD(lr= 1e-5, momentum=0.9)\n",
        "model.compile(loss=tf.keras.losses.Huber(),\n",
        "              optimizer=optimizer,\n",
        "              metrics=[\"mae\"])\n",
        "history = model.fit(train_set,epochs=100)\n",
        "                                    \n",
        "# EXPECTED OUTPUT SHOULD SEE AN MAE OF <2 WITHIN ABOUT 30 EPOCHS"
      ],
      "execution_count": null,
      "outputs": [
        {
          "output_type": "stream",
          "text": [
            "Epoch 1/100\n",
            "WARNING:tensorflow:Layer lambda is casting an input tensor from dtype float64 to the layer's dtype of float32, which is new behavior in TensorFlow 2.  The layer has dtype float32 because its dtype defaults to floatx.\n",
            "\n",
            "If you intended to run this layer in float32, you can safely ignore this warning. If in doubt, this warning is likely only an issue if you are porting a TensorFlow 1.X model to TensorFlow 2.\n",
            "\n",
            "To change all layers to have dtype float64 by default, call `tf.keras.backend.set_floatx('float64')`. To change just this layer, pass dtype='float64' to the layer constructor. If you are the author of this layer, you can disable autocasting by passing autocast=False to the base Layer constructor.\n",
            "\n",
            "10/10 [==============================] - 0s 24ms/step - loss: 44.3911 - mae: 44.8889\n",
            "Epoch 2/100\n",
            "10/10 [==============================] - 0s 23ms/step - loss: 30.1726 - mae: 30.6691\n",
            "Epoch 3/100\n",
            "10/10 [==============================] - 0s 25ms/step - loss: 25.8447 - mae: 26.3402\n",
            "Epoch 4/100\n",
            "10/10 [==============================] - 0s 23ms/step - loss: 24.6461 - mae: 25.1407\n",
            "Epoch 5/100\n",
            "10/10 [==============================] - 0s 23ms/step - loss: 24.0405 - mae: 24.5351\n",
            "Epoch 6/100\n",
            "10/10 [==============================] - 0s 24ms/step - loss: 23.9904 - mae: 24.4851\n",
            "Epoch 7/100\n",
            "10/10 [==============================] - 0s 24ms/step - loss: 23.8731 - mae: 24.3678\n",
            "Epoch 8/100\n",
            "10/10 [==============================] - 0s 31ms/step - loss: 23.6736 - mae: 24.1683\n",
            "Epoch 9/100\n",
            "10/10 [==============================] - 0s 28ms/step - loss: 23.7568 - mae: 24.2516\n",
            "Epoch 10/100\n",
            "10/10 [==============================] - 0s 26ms/step - loss: 23.4702 - mae: 23.9648\n",
            "Epoch 11/100\n",
            "10/10 [==============================] - 0s 25ms/step - loss: 23.4078 - mae: 23.9023\n",
            "Epoch 12/100\n",
            "10/10 [==============================] - 0s 25ms/step - loss: 23.2731 - mae: 23.7677\n",
            "Epoch 13/100\n",
            "10/10 [==============================] - 0s 27ms/step - loss: 23.2948 - mae: 23.7891\n",
            "Epoch 14/100\n",
            "10/10 [==============================] - 0s 36ms/step - loss: 23.2043 - mae: 23.6987\n",
            "Epoch 15/100\n",
            "10/10 [==============================] - 0s 26ms/step - loss: 23.0521 - mae: 23.5465\n",
            "Epoch 16/100\n",
            "10/10 [==============================] - 0s 27ms/step - loss: 23.1129 - mae: 23.6074\n",
            "Epoch 17/100\n",
            "10/10 [==============================] - 0s 26ms/step - loss: 22.9712 - mae: 23.4657\n",
            "Epoch 18/100\n",
            "10/10 [==============================] - 0s 27ms/step - loss: 22.9309 - mae: 23.4253\n",
            "Epoch 19/100\n",
            "10/10 [==============================] - 0s 26ms/step - loss: 22.9782 - mae: 23.4727\n",
            "Epoch 20/100\n",
            "10/10 [==============================] - 0s 27ms/step - loss: 22.8124 - mae: 23.3067\n",
            "Epoch 21/100\n",
            "10/10 [==============================] - 0s 25ms/step - loss: 22.7987 - mae: 23.2932\n",
            "Epoch 22/100\n",
            "10/10 [==============================] - 0s 31ms/step - loss: 22.7962 - mae: 23.2907\n",
            "Epoch 23/100\n",
            "10/10 [==============================] - 0s 27ms/step - loss: 23.0383 - mae: 23.5326\n",
            "Epoch 24/100\n",
            "10/10 [==============================] - 0s 25ms/step - loss: 22.7768 - mae: 23.2711\n",
            "Epoch 25/100\n",
            "10/10 [==============================] - 0s 27ms/step - loss: 22.5802 - mae: 23.0746\n",
            "Epoch 26/100\n",
            "10/10 [==============================] - 0s 27ms/step - loss: 22.6682 - mae: 23.1625\n",
            "Epoch 27/100\n",
            "10/10 [==============================] - 0s 27ms/step - loss: 22.9527 - mae: 23.4472\n",
            "Epoch 28/100\n",
            "10/10 [==============================] - 0s 27ms/step - loss: 22.9593 - mae: 23.4535\n",
            "Epoch 29/100\n",
            "10/10 [==============================] - 0s 26ms/step - loss: 22.5958 - mae: 23.0900\n",
            "Epoch 30/100\n",
            "10/10 [==============================] - 0s 26ms/step - loss: 22.5016 - mae: 22.9957\n",
            "Epoch 31/100\n",
            "10/10 [==============================] - 0s 25ms/step - loss: 22.6788 - mae: 23.1729\n",
            "Epoch 32/100\n",
            "10/10 [==============================] - 0s 25ms/step - loss: 22.4944 - mae: 22.9885\n",
            "Epoch 33/100\n",
            "10/10 [==============================] - 0s 26ms/step - loss: 22.3969 - mae: 22.8908\n",
            "Epoch 34/100\n",
            "10/10 [==============================] - 0s 30ms/step - loss: 22.3143 - mae: 22.8084\n",
            "Epoch 35/100\n",
            "10/10 [==============================] - 0s 35ms/step - loss: 22.3303 - mae: 22.8244\n",
            "Epoch 36/100\n",
            "10/10 [==============================] - 0s 27ms/step - loss: 22.3748 - mae: 22.8689\n",
            "Epoch 37/100\n",
            "10/10 [==============================] - 0s 27ms/step - loss: 22.2176 - mae: 22.7115\n",
            "Epoch 38/100\n",
            "10/10 [==============================] - 0s 33ms/step - loss: 22.2895 - mae: 22.7836\n",
            "Epoch 39/100\n",
            "10/10 [==============================] - 0s 28ms/step - loss: 22.4407 - mae: 22.9348\n",
            "Epoch 40/100\n",
            "10/10 [==============================] - 0s 25ms/step - loss: 22.0980 - mae: 22.5921\n",
            "Epoch 41/100\n",
            "10/10 [==============================] - 0s 36ms/step - loss: 22.1691 - mae: 22.6629\n",
            "Epoch 42/100\n",
            "10/10 [==============================] - 0s 25ms/step - loss: 22.0427 - mae: 22.5368\n",
            "Epoch 43/100\n",
            "10/10 [==============================] - 0s 26ms/step - loss: 22.2846 - mae: 22.7786\n",
            "Epoch 44/100\n",
            "10/10 [==============================] - 0s 24ms/step - loss: 22.2043 - mae: 22.6982\n",
            "Epoch 45/100\n",
            "10/10 [==============================] - 0s 27ms/step - loss: 22.0962 - mae: 22.5904\n",
            "Epoch 46/100\n",
            "10/10 [==============================] - 0s 27ms/step - loss: 22.5402 - mae: 23.0341\n",
            "Epoch 47/100\n",
            "10/10 [==============================] - 0s 25ms/step - loss: 21.9947 - mae: 22.4886\n",
            "Epoch 48/100\n",
            "10/10 [==============================] - 0s 27ms/step - loss: 22.0174 - mae: 22.5118\n",
            "Epoch 49/100\n",
            "10/10 [==============================] - 0s 26ms/step - loss: 21.9055 - mae: 22.3993\n",
            "Epoch 50/100\n",
            "10/10 [==============================] - 0s 26ms/step - loss: 21.8472 - mae: 22.3413\n",
            "Epoch 51/100\n",
            "10/10 [==============================] - 0s 28ms/step - loss: 21.9300 - mae: 22.4238\n",
            "Epoch 52/100\n",
            "10/10 [==============================] - 0s 24ms/step - loss: 21.8524 - mae: 22.3463\n",
            "Epoch 53/100\n",
            "10/10 [==============================] - 0s 23ms/step - loss: 22.2399 - mae: 22.7340\n",
            "Epoch 54/100\n",
            "10/10 [==============================] - 0s 25ms/step - loss: 22.0842 - mae: 22.5783\n",
            "Epoch 55/100\n",
            "10/10 [==============================] - 0s 24ms/step - loss: 22.3242 - mae: 22.8184\n",
            "Epoch 56/100\n",
            "10/10 [==============================] - 0s 24ms/step - loss: 22.1104 - mae: 22.6045\n",
            "Epoch 57/100\n",
            "10/10 [==============================] - 0s 24ms/step - loss: 21.9598 - mae: 22.4538\n",
            "Epoch 58/100\n",
            "10/10 [==============================] - 0s 24ms/step - loss: 21.7627 - mae: 22.2565\n",
            "Epoch 59/100\n",
            "10/10 [==============================] - 0s 27ms/step - loss: 21.7039 - mae: 22.1978\n",
            "Epoch 60/100\n",
            "10/10 [==============================] - 0s 26ms/step - loss: 21.6679 - mae: 22.1617\n",
            "Epoch 61/100\n",
            "10/10 [==============================] - 0s 27ms/step - loss: 21.8325 - mae: 22.3265\n",
            "Epoch 62/100\n",
            "10/10 [==============================] - 0s 23ms/step - loss: 22.1477 - mae: 22.6416\n",
            "Epoch 63/100\n",
            "10/10 [==============================] - 0s 26ms/step - loss: 21.6596 - mae: 22.1532\n",
            "Epoch 64/100\n",
            "10/10 [==============================] - 0s 25ms/step - loss: 21.6024 - mae: 22.0961\n",
            "Epoch 65/100\n",
            "10/10 [==============================] - 0s 25ms/step - loss: 21.5256 - mae: 22.0195\n",
            "Epoch 66/100\n",
            "10/10 [==============================] - 0s 26ms/step - loss: 21.5336 - mae: 22.0272\n",
            "Epoch 67/100\n",
            "10/10 [==============================] - 0s 24ms/step - loss: 21.4825 - mae: 21.9762\n",
            "Epoch 68/100\n",
            "10/10 [==============================] - 0s 26ms/step - loss: 21.6999 - mae: 22.1938\n",
            "Epoch 69/100\n",
            "10/10 [==============================] - 0s 25ms/step - loss: 21.8082 - mae: 22.3020\n",
            "Epoch 70/100\n",
            "10/10 [==============================] - 0s 28ms/step - loss: 21.3971 - mae: 21.8908\n",
            "Epoch 71/100\n",
            "10/10 [==============================] - 0s 27ms/step - loss: 21.5417 - mae: 22.0354\n",
            "Epoch 72/100\n",
            "10/10 [==============================] - 0s 24ms/step - loss: 21.3648 - mae: 21.8585\n",
            "Epoch 73/100\n",
            "10/10 [==============================] - 0s 24ms/step - loss: 21.4264 - mae: 21.9200\n",
            "Epoch 74/100\n",
            "10/10 [==============================] - 0s 30ms/step - loss: 21.5696 - mae: 22.0630\n",
            "Epoch 75/100\n",
            "10/10 [==============================] - 0s 36ms/step - loss: 21.2846 - mae: 21.7782\n",
            "Epoch 76/100\n",
            "10/10 [==============================] - 0s 27ms/step - loss: 21.8316 - mae: 22.3255\n",
            "Epoch 77/100\n",
            "10/10 [==============================] - 0s 25ms/step - loss: 21.4340 - mae: 21.9277\n",
            "Epoch 78/100\n",
            "10/10 [==============================] - 0s 26ms/step - loss: 21.2705 - mae: 21.7640\n",
            "Epoch 79/100\n",
            "10/10 [==============================] - 0s 28ms/step - loss: 21.5743 - mae: 22.0681\n",
            "Epoch 80/100\n",
            "10/10 [==============================] - 0s 27ms/step - loss: 21.1228 - mae: 21.6166\n",
            "Epoch 81/100\n",
            "10/10 [==============================] - 0s 26ms/step - loss: 21.2416 - mae: 21.7350\n",
            "Epoch 82/100\n",
            "10/10 [==============================] - 0s 25ms/step - loss: 21.2946 - mae: 21.7885\n",
            "Epoch 83/100\n",
            "10/10 [==============================] - 0s 25ms/step - loss: 21.3461 - mae: 21.8400\n",
            "Epoch 84/100\n",
            "10/10 [==============================] - 0s 26ms/step - loss: 21.1979 - mae: 21.6910\n",
            "Epoch 85/100\n",
            "10/10 [==============================] - 0s 27ms/step - loss: 21.0795 - mae: 21.5729\n",
            "Epoch 86/100\n",
            "10/10 [==============================] - 0s 25ms/step - loss: 21.1732 - mae: 21.6670\n",
            "Epoch 87/100\n",
            "10/10 [==============================] - 0s 25ms/step - loss: 21.2217 - mae: 21.7149\n",
            "Epoch 88/100\n",
            "10/10 [==============================] - 0s 29ms/step - loss: 21.1932 - mae: 21.6869\n",
            "Epoch 89/100\n",
            "10/10 [==============================] - 0s 33ms/step - loss: 21.2344 - mae: 21.7279\n",
            "Epoch 90/100\n",
            "10/10 [==============================] - 0s 25ms/step - loss: 21.3668 - mae: 21.8605\n",
            "Epoch 91/100\n",
            "10/10 [==============================] - 0s 27ms/step - loss: 21.0507 - mae: 21.5439\n",
            "Epoch 92/100\n",
            "10/10 [==============================] - 0s 29ms/step - loss: 21.2043 - mae: 21.6979\n",
            "Epoch 93/100\n",
            "10/10 [==============================] - 0s 27ms/step - loss: 20.9519 - mae: 21.4453\n",
            "Epoch 94/100\n",
            "10/10 [==============================] - 0s 23ms/step - loss: 20.9953 - mae: 21.4887\n",
            "Epoch 95/100\n",
            "10/10 [==============================] - 0s 24ms/step - loss: 21.1099 - mae: 21.6034\n",
            "Epoch 96/100\n",
            "10/10 [==============================] - 0s 25ms/step - loss: 20.8758 - mae: 21.3689\n",
            "Epoch 97/100\n",
            "10/10 [==============================] - 0s 25ms/step - loss: 21.2653 - mae: 21.7588\n",
            "Epoch 98/100\n",
            "10/10 [==============================] - 0s 32ms/step - loss: 21.0864 - mae: 21.5796\n",
            "Epoch 99/100\n",
            "10/10 [==============================] - 0s 27ms/step - loss: 20.9225 - mae: 21.4157\n",
            "Epoch 100/100\n",
            "10/10 [==============================] - 0s 25ms/step - loss: 21.1874 - mae: 21.6810\n"
          ],
          "name": "stdout"
        }
      ]
    },
    {
      "cell_type": "code",
      "metadata": {
        "id": "GaC6NNMRp0lb"
      },
      "source": [
        "rnn_forecast = model_forecast(model, series, window_size)\n",
        "rnn_forecast = rnn_forecast[split_time - window_size:-1, -1, 0]"
      ],
      "execution_count": null,
      "outputs": []
    },
    {
      "cell_type": "code",
      "metadata": {
        "id": "izy6wl2S9d-2",
        "outputId": "81bac943-04df-486b-ae75-0dd5bb0738a9",
        "colab": {
          "base_uri": "https://localhost:8080/",
          "height": 388
        }
      },
      "source": [
        "plt.figure(figsize=(10, 6))\n",
        "plot_series(time_valid, x_valid)\n",
        "plot_series(time_valid, rnn_forecast)\n",
        "\n",
        "# EXPECTED OUTPUT. PLOT SHOULD SHOW PROJECTIONS FOLLOWING ORIGINAL DATA CLOSELY"
      ],
      "execution_count": null,
      "outputs": [
        {
          "output_type": "display_data",
          "data": {
            "image/png": "[encoded data removed]",
            "text/plain": [
              "<Figure size 720x432 with 1 Axes>"
            ]
          },
          "metadata": {
            "tags": [],
            "needs_background": "light"
          }
        }
      ]
    },
    {
      "cell_type": "code",
      "metadata": {
        "id": "13XrorC5wQoE",
        "outputId": "f234fc30-eae4-44c0-8a27-a21c67473810",
        "colab": {
          "base_uri": "https://localhost:8080/",
          "height": 36
        }
      },
      "source": [
        "tf.keras.metrics.mean_absolute_error(x_valid, rnn_forecast).numpy()\n",
        "\n",
        "# EXPECTED OUTPUT MAE < 2 -- I GOT 1.789626"
      ],
      "execution_count": null,
      "outputs": [
        {
          "output_type": "execute_result",
          "data": {
            "text/plain": [
              "18.348255"
            ]
          },
          "metadata": {
            "tags": []
          },
          "execution_count": 76
        }
      ]
    },
    {
      "cell_type": "code",
      "metadata": {
        "id": "AOVzQXxCwkzP",
        "outputId": "b8588641-5299-4476-ca9b-3d5fe6ebd781",
        "colab": {
          "base_uri": "https://localhost:8080/",
          "height": 720
        }
      },
      "source": [
        "print(rnn_forecast)\n",
        "# EXPECTED OUTPUT -- ARRAY OF VALUES IN THE LOW TEENS"
      ],
      "execution_count": null,
      "outputs": [
        {
          "output_type": "stream",
          "text": [
            "[ 10.919599   16.436483   23.54631    22.840998   19.526443   27.519257\n",
            "  33.64246    33.555676   47.175953   60.101273   63.961445   72.18625\n",
            "  76.9654     77.68405    80.23574    81.95129    88.02068   102.633224\n",
            " 109.08029   113.2924    107.08438   107.01412    98.30208    98.83438\n",
            " 108.31498   101.21909   100.01181   102.01734   109.67515   115.98318\n",
            " 114.14621   110.40448   102.26954   108.14264   111.41348   107.4987\n",
            " 107.96994   112.40819   113.219055  106.53413   108.46034   111.55465\n",
            " 115.3306    120.87051   118.025734  118.13478   117.691765  114.848946\n",
            " 112.72365   111.43229   111.521996  110.686615  111.82692   115.63071\n",
            " 122.02871   119.74004   118.347534  123.45106   123.2583    121.99673\n",
            " 118.67031   117.34907   114.75459   115.095795  112.17265   112.31365\n",
            " 109.400116  101.20602   101.00894    98.911026   93.97366    96.73167\n",
            "  94.79591    88.20188    84.54394    85.80026    89.37405    87.361404\n",
            "  89.3064     91.38414    88.46533    89.576416   93.55943    92.827705\n",
            "  91.25357    89.9404     88.5128     79.222626   75.90103    72.19909\n",
            "  69.57553    68.62566    70.85305    68.16378    62.258125   50.026493\n",
            "  43.85767    49.3783     50.21732    39.873783   30.676609   34.413998\n",
            "  33.562397   29.744291   31.1089     35.8669     37.079193   42.15606\n",
            "  43.142097   42.661087   45.927452   41.4819     29.3825     24.380169\n",
            "  24.037611   17.104465   14.894856   14.352332   14.246485   13.39949\n",
            "  18.246716   14.464291   10.33547    12.676273   14.523125   11.975755\n",
            "  13.2286415  18.021027   15.8940525  12.95262    11.169727    9.467177\n",
            "  12.360015   13.879921   17.179356   10.656823    9.803429   15.877995\n",
            "  24.6544     17.317932   10.929977   16.315832   28.45618    30.496275\n",
            "  24.360239   34.83481    45.829056   40.17231    42.22927    48.960896\n",
            "  63.473003   78.29909    86.05177    91.89468    95.17311    93.00689\n",
            "  80.5575     95.5226    101.68874   101.67883   104.85861   114.15658\n",
            " 119.64094   118.540955  112.7491    115.25315   121.471535  125.877556\n",
            " 122.95801   129.0232    135.04451   133.99245   133.17433   132.27487\n",
            " 131.51994   127.020096  130.88518   137.9028    135.3276    129.39163\n",
            " 126.02541   128.94986   134.87503   131.74403   132.88696   126.57755\n",
            " 126.027855  124.5028    129.64604   125.653984  110.98921   113.77619\n",
            " 117.1864    127.57058   126.71712   123.83287   124.63173   120.86137\n",
            " 127.73711   131.29669   124.784386  104.73449   103.8503    102.764824\n",
            " 104.50264   101.269165   99.74102    97.80681   101.16563    99.53864\n",
            "  84.18243    78.611824   79.58433    85.34416    86.17121    83.17044\n",
            "  80.971794   72.64866    72.04569    58.15771  ]\n"
          ],
          "name": "stdout"
        }
      ]
    }
  ]
}